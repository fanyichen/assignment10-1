{
 "cells": [
  {
   "cell_type": "code",
   "execution_count": 47,
   "metadata": {
    "collapsed": false
   },
   "outputs": [],
   "source": [
    "import pandas as pd\n",
    "import numpy as np"
   ]
  },
  {
   "cell_type": "code",
   "execution_count": 48,
   "metadata": {
    "collapsed": false
   },
   "outputs": [],
   "source": [
    "# Load data\n",
    "data = pd.read_csv('DOHMH_New_York_City_Restaurant_Inspection_Results.csv',sep=',',header=0,low_memory=False)"
   ]
  },
  {
   "cell_type": "code",
   "execution_count": 49,
   "metadata": {
    "collapsed": false
   },
   "outputs": [],
   "source": [
    "def test_grades(rest_data):\n",
    "    grades = ['A','B','C']\n",
    "    first_grade = rest_data.iloc[0]['GRADE']\n",
    "    last_grade = rest_data.iloc[-1]['GRADE']\n",
    "    grade1 = grades.index(first_grade)\n",
    "    grade2 = grades.index(last_grade)\n",
    "    if grade1 == grade2:\n",
    "        improve = 0\n",
    "    elif grade1 < grade2:\n",
    "        improve = 1\n",
    "    elif grade1 > grade2:\n",
    "        improve = -1\n",
    "    return improve"
   ]
  },
  {
   "cell_type": "code",
   "execution_count": 50,
   "metadata": {
    "collapsed": true
   },
   "outputs": [],
   "source": [
    "def test_restaurant_grades(restaurant):\n",
    "    rest_data = data[data['CAMIS'] == restaurant]\n",
    "    new_dates = pd.to_datetime(rest_data['GRADE DATE'])\n",
    "    rest_data.loc[:,'GRADE DATE'] = new_dates\n",
    "    rest_data = rest_data.sort(['GRADE DATE'])\n",
    "    rest_data = rest_data.reset_index()\n",
    "    return test_grades(rest_data)"
   ]
  },
  {
   "cell_type": "code",
   "execution_count": 51,
   "metadata": {
    "collapsed": true
   },
   "outputs": [],
   "source": [
    "def improve_count(restaurant_list):\n",
    "    total_improve = 0\n",
    "    for r in restaurant_list:\n",
    "        improve = test_restaurant_grades(r)\n",
    "        total_improve = total_improve + improve\n",
    "    return total_improve"
   ]
  },
  {
   "cell_type": "code",
   "execution_count": 52,
   "metadata": {
    "collapsed": true
   },
   "outputs": [],
   "source": [
    "# Clean data\n",
    "data = data.dropna(subset = ['GRADE'])\n",
    "data = data[~data['GRADE'].str.contains('Not Yet Graded')]\n",
    "data = data[~data['GRADE'].str.contains('P')]\n",
    "data = data[~data['GRADE'].str.contains('Z')]\n",
    "data_si = data[data['BORO']=='STATEN ISLAND']\n",
    "data_bx = data[data['BORO']=='BRONX']\n",
    "data_bk = data[data['BORO']=='BROOKLYN']\n",
    "data_qu = data[data['BORO']=='QUEENS']\n",
    "data_ny = data[data['BORO']=='MANHATTAN']"
   ]
  },
  {
   "cell_type": "code",
   "execution_count": 53,
   "metadata": {
    "collapsed": false
   },
   "outputs": [],
   "source": [
    "restaurants_nyc = data['CAMIS'].unique()\n",
    "restaurants_si = data_si['CAMIS'].unique()\n",
    "restaurants_bx = data_bx['CAMIS'].unique()\n",
    "restaurants_bk = data_bk['CAMIS'].unique()\n",
    "restaurants_qu = data_qu['CAMIS'].unique()\n",
    "restaurants_ny = data_ny['CAMIS'].unique()"
   ]
  },
  {
   "cell_type": "code",
   "execution_count": null,
   "metadata": {
    "collapsed": true
   },
   "outputs": [],
   "source": [
    "improve_si = improve_count(restaurants_si)\n",
    "improve_bx = improve_count(restaurants_bx)\n",
    "improve_bk = improve_count(restaurants_bk)\n",
    "improve_qu = improve_count(restaurants_qu)\n",
    "improve_ny = improve_count(restaurants_ny)\n",
    "\n",
    "improve_nyc = improve_si + improve_bx + improve_bk + improve_qu + improve_ny"
   ]
  },
  {
   "cell_type": "code",
   "execution_count": null,
   "metadata": {
    "collapsed": false
   },
   "outputs": [],
   "source": [
    "print improve_si\n",
    "print improve_bx\n",
    "print improve_bk\n",
    "print improve_qu\n",
    "print improve_ny\n",
    "print improve_nyc"
   ]
  },
  {
   "cell_type": "code",
   "execution_count": null,
   "metadata": {
    "collapsed": false
   },
   "outputs": [],
   "source": [
    "import matplotlib.pyplot as plt\n",
    "%matplotlib inline  \n",
    "plt.hist(improve_list)"
   ]
  },
  {
   "cell_type": "code",
   "execution_count": null,
   "metadata": {
    "collapsed": false
   },
   "outputs": [],
   "source": [
    "print improve_list.count(-1)\n",
    "print improve_list.count(1)\n",
    "print improve_list.count(0)"
   ]
  },
  {
   "cell_type": "code",
   "execution_count": null,
   "metadata": {
    "collapsed": true
   },
   "outputs": [],
   "source": []
  }
 ],
 "metadata": {
  "kernelspec": {
   "display_name": "Python 2",
   "language": "python",
   "name": "python2"
  },
  "language_info": {
   "codemirror_mode": {
    "name": "ipython",
    "version": 2
   },
   "file_extension": ".py",
   "mimetype": "text/x-python",
   "name": "python",
   "nbconvert_exporter": "python",
   "pygments_lexer": "ipython2",
   "version": "2.7.10"
  }
 },
 "nbformat": 4,
 "nbformat_minor": 0
}
